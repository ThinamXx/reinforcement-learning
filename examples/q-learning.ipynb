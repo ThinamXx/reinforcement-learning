{
 "cells": [
  {
   "cell_type": "code",
   "execution_count": 1,
   "metadata": {},
   "outputs": [],
   "source": [
    "# initializing the grid environment:\n",
    "DESERT = \"desert\"\n",
    "AGENT = \"agent\"\n",
    "WATER = \"water\"\n",
    "EMPTY = \"*\"\n",
    "\n",
    "grid = [[AGENT, EMPTY, DESERT], [EMPTY, EMPTY, WATER]]\n",
    "\n",
    "# initializing the agent's movement:\n",
    "UP = 0\n",
    "DOWN = 1\n",
    "LEFT = 2\n",
    "RIGHT = 3\n",
    "\n",
    "ACTIONS = [UP, DOWN, LEFT, RIGHT]"
   ]
  },
  {
   "cell_type": "code",
   "execution_count": 2,
   "metadata": {},
   "outputs": [],
   "source": [
    "class State:\n",
    "\n",
    "    def __init__(self, grid, agent_pos):\n",
    "        self.grid = grid\n",
    "        self.agent_pos = agent_pos\n",
    "\n",
    "    def __eq__(self, other):\n",
    "        return (\n",
    "            isinstance(other, State)\n",
    "            and self.grid == other.grid\n",
    "            and self.agent_pos == other.agent_pos\n",
    "        )\n",
    "\n",
    "    def __hash__(self):\n",
    "        return hash(str(self.grid) + str(self.agent_pos))\n",
    "\n",
    "    def __str__(self):\n",
    "        return f\"State(grid={self.grid}, agent_pos={self.agent_pos})\"\n",
    "\n",
    "\n",
    "# initializing the start state:\n",
    "start_state = State(grid=grid, agent_pos=[0, 0])"
   ]
  },
  {
   "cell_type": "code",
   "execution_count": 3,
   "metadata": {},
   "outputs": [
    {
     "name": "stdout",
     "output_type": "stream",
     "text": [
      "[1, 1]\n"
     ]
    }
   ],
   "source": [
    "from copy import deepcopy\n",
    "\n",
    "def new_agent_pos(state, action):\n",
    "    p = deepcopy(state.agent_pos)\n",
    "    if action == UP:\n",
    "        p[0] = max(0, p[0] - 1)\n",
    "    elif action == DOWN:\n",
    "        p[0] = min(len(state.grid) - 1, p[0] + 1)\n",
    "    elif action == LEFT:\n",
    "        p[1] = max(0, p[1] - 1)\n",
    "    elif action == RIGHT:\n",
    "        p[1] = min(len(state.grid[0]) - 1, p[1] + 1)\n",
    "    else:\n",
    "        raise ValueError(f\"Unknown action {action}\")\n",
    "    return p\n",
    "\n",
    "# inspecting the new position:\n",
    "p = new_agent_pos(State(grid=grid, agent_pos=[1, 0]), RIGHT)\n",
    "print(p)"
   ]
  },
  {
   "cell_type": "code",
   "execution_count": 4,
   "metadata": {},
   "outputs": [
    {
     "name": "stdout",
     "output_type": "stream",
     "text": [
      "State(grid=[['*', 'agent', 'desert'], ['*', '*', 'water']], agent_pos=[0, 1])\n"
     ]
    }
   ],
   "source": [
    "def act(state, action):\n",
    "            \n",
    "    p = new_agent_pos(state, action)\n",
    "    grid_item = state.grid[p[0]][p[1]]\n",
    "    \n",
    "    new_grid = deepcopy(state.grid)\n",
    "    \n",
    "    if grid_item == DESERT:\n",
    "        reward = -100\n",
    "        is_done = True\n",
    "        new_grid[p[0]][p[1]] += AGENT\n",
    "        \n",
    "    elif grid_item == WATER:\n",
    "        reward = 1000\n",
    "        is_done = True\n",
    "        new_grid[p[0]][p[1]] += AGENT\n",
    "        \n",
    "    elif grid_item == EMPTY:\n",
    "        reward = -1\n",
    "        is_done = False\n",
    "        old = state.agent_pos\n",
    "        new_grid[old[0]][old[1]] = EMPTY\n",
    "        new_grid[p[0]][p[1]] = AGENT        \n",
    "        \n",
    "    elif grid_item == AGENT:\n",
    "        reward = -1\n",
    "        is_done = False\n",
    "        \n",
    "    else:\n",
    "        raise ValueError(f\"Unknown grid item {grid_item}\")\n",
    "    \n",
    "    return State(grid=new_grid, agent_pos=p), reward, is_done\n",
    "\n",
    "# inspecting the act function:\n",
    "s, r, d = act(start_state, RIGHT)\n",
    "print(s)"
   ]
  },
  {
   "cell_type": "code",
   "execution_count": 5,
   "metadata": {},
   "outputs": [],
   "source": [
    "import numpy as np\n",
    "import random\n",
    "\n",
    "random.seed(2024)\n",
    "\n",
    "N_STATES = 6\n",
    "N_EPISODES = 20\n",
    "\n",
    "MAX_EPISODE_STEPS = 100\n",
    "\n",
    "MIN_ALPHA = 0.02\n",
    "\n",
    "alphas = np.linspace(1.0, MIN_ALPHA, N_EPISODES)\n",
    "gamma = 1.0\n",
    "eps = 0.2\n",
    "\n",
    "q_table = dict()"
   ]
  },
  {
   "cell_type": "code",
   "execution_count": 6,
   "metadata": {},
   "outputs": [],
   "source": [
    "def q(state, action=None):\n",
    "    \n",
    "    if state not in q_table:\n",
    "        q_table[state] = np.zeros(len(ACTIONS))\n",
    "        \n",
    "    if action is None:\n",
    "        return q_table[state]\n",
    "    \n",
    "    return q_table[state][action]\n",
    "\n",
    "\n",
    "def choose_action(state):\n",
    "    if random.uniform(0, 1) < eps:\n",
    "        return random.choice(ACTIONS) \n",
    "    else:\n",
    "        return np.argmax(q(state))"
   ]
  },
  {
   "cell_type": "code",
   "execution_count": 7,
   "metadata": {},
   "outputs": [
    {
     "name": "stdout",
     "output_type": "stream",
     "text": [
      "Episode 1: total reward -> 979\n",
      "Episode 2: total reward -> 997\n",
      "Episode 3: total reward -> -101\n",
      "Episode 4: total reward -> 995\n",
      "Episode 5: total reward -> 997\n",
      "Episode 6: total reward -> 998\n",
      "Episode 7: total reward -> 998\n",
      "Episode 8: total reward -> 998\n",
      "Episode 9: total reward -> 998\n",
      "Episode 10: total reward -> 998\n",
      "Episode 11: total reward -> 997\n",
      "Episode 12: total reward -> 998\n",
      "Episode 13: total reward -> 998\n",
      "Episode 14: total reward -> 998\n",
      "Episode 15: total reward -> 997\n",
      "Episode 16: total reward -> 996\n",
      "Episode 17: total reward -> 998\n",
      "Episode 18: total reward -> 996\n",
      "Episode 19: total reward -> 998\n",
      "Episode 20: total reward -> 998\n"
     ]
    }
   ],
   "source": [
    "# training the agent:\n",
    "for e in range(N_EPISODES):\n",
    "    \n",
    "    state = start_state\n",
    "    total_reward = 0\n",
    "    alpha = alphas[e]\n",
    "    \n",
    "    for _ in range(MAX_EPISODE_STEPS):\n",
    "        action = choose_action(state)\n",
    "        next_state, reward, done = act(state, action)\n",
    "        total_reward += reward\n",
    "        \n",
    "        q(state)[action] = q(state, action) + \\\n",
    "                alpha * (reward + gamma *  np.max(q(next_state)) - q(state, action))\n",
    "        state = next_state\n",
    "        if done:\n",
    "            break\n",
    "    print(f\"Episode {e + 1}: total reward -> {total_reward}\")"
   ]
  },
  {
   "cell_type": "code",
   "execution_count": 8,
   "metadata": {},
   "outputs": [
    {
     "name": "stdout",
     "output_type": "stream",
     "text": [
      "up=-2.0, down=261.56121883656516, left=479.65705625534633, right=997.8221292574273\n"
     ]
    }
   ],
   "source": [
    "# inspecting the q_table:\n",
    "r = q(start_state)\n",
    "print(f\"up={r[UP]}, down={r[DOWN]}, left={r[LEFT]}, right={r[RIGHT]}\")"
   ]
  },
  {
   "cell_type": "code",
   "execution_count": 9,
   "metadata": {},
   "outputs": [],
   "source": [
    "# since the right action has the highest value, the agent should move right:\n",
    "new_state, reward, done = act(start_state, RIGHT)"
   ]
  },
  {
   "cell_type": "code",
   "execution_count": 10,
   "metadata": {},
   "outputs": [
    {
     "name": "stdout",
     "output_type": "stream",
     "text": [
      "up=-1.845263157894737, down=998.9890982508236, left=318.69261805835083, right=-89.6842105263158\n"
     ]
    }
   ],
   "source": [
    "# inspecting the new state:\n",
    "r = q(new_state)\n",
    "print(f\"up={r[UP]}, down={r[DOWN]}, left={r[LEFT]}, right={r[RIGHT]}\")"
   ]
  },
  {
   "cell_type": "code",
   "execution_count": 11,
   "metadata": {},
   "outputs": [],
   "source": [
    "# since the down action has the highest value, the agent should move right:\n",
    "new_state, reward, done = act(start_state, DOWN)"
   ]
  },
  {
   "cell_type": "code",
   "execution_count": 12,
   "metadata": {},
   "outputs": [
    {
     "name": "stdout",
     "output_type": "stream",
     "text": [
      "up=-2.0, down=261.56121883656516, left=-2.0, right=961.7545706371192\n"
     ]
    }
   ],
   "source": [
    "# inspecting the new state:\n",
    "r = q(new_state)\n",
    "print(f\"up={r[UP]}, down={r[DOWN]}, left={r[LEFT]}, right={r[RIGHT]}\")"
   ]
  },
  {
   "cell_type": "markdown",
   "metadata": {},
   "source": [
    "*Yeah! The agent moves to WATER finally which is expected.*"
   ]
  }
 ],
 "metadata": {
  "kernelspec": {
   "display_name": "rl",
   "language": "python",
   "name": "rl"
  },
  "language_info": {
   "codemirror_mode": {
    "name": "ipython",
    "version": 3
   },
   "file_extension": ".py",
   "mimetype": "text/x-python",
   "name": "python",
   "nbconvert_exporter": "python",
   "pygments_lexer": "ipython3",
   "version": "3.10.0"
  }
 },
 "nbformat": 4,
 "nbformat_minor": 2
}
